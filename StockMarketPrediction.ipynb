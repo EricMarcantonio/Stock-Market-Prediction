{
  "nbformat": 4,
  "nbformat_minor": 0,
  "metadata": {
    "colab": {
      "name": "StockMarketPrediction.ipynb",
      "provenance": [],
      "authorship_tag": "ABX9TyPcSsX6IToLGaeR49WfyiTh",
      "include_colab_link": true
    },
    "kernelspec": {
      "name": "python3",
      "display_name": "Python 3"
    }
  },
  "cells": [
    {
      "cell_type": "markdown",
      "metadata": {
        "id": "view-in-github",
        "colab_type": "text"
      },
      "source": [
        "<a href=\"https://colab.research.google.com/github/EricMarcantonio/Misc-Machine-Learning-Data-Analytics/blob/master/StockMarketPrediction.ipynb\" target=\"_parent\"><img src=\"https://colab.research.google.com/assets/colab-badge.svg\" alt=\"Open In Colab\"/></a>"
      ]
    },
    {
      "cell_type": "code",
      "metadata": {
        "id": "UALMbgaWPxmN",
        "colab_type": "code",
        "colab": {}
      },
      "source": [
        "# Description: Using AI to predict "
      ],
      "execution_count": 0,
      "outputs": []
    },
    {
      "cell_type": "code",
      "metadata": {
        "id": "IUpdhgP8QW7w",
        "colab_type": "code",
        "colab": {}
      },
      "source": [
        "import math\n",
        "import pandas_datareader as web\n",
        "import numpy as np\n",
        "from sklearn.preprocessing import MinMaxScaler\n",
        "from keras.models import Sequential\n",
        "from keras.layers import Dense, LSTM\n",
        "import matplotlib.pyplot as plt\n",
        "plt.style.use(\"fivethirtyeight\")"
      ],
      "execution_count": 0,
      "outputs": []
    },
    {
      "cell_type": "code",
      "metadata": {
        "id": "7h4J1FQsRBuk",
        "colab_type": "code",
        "colab": {}
      },
      "source": [
        "df = web.DataReader(\"AAPL\", data_source=\"yahoo\", start=\"2012-01-01\", end=\"2019-12-12\")\n"
      ],
      "execution_count": 0,
      "outputs": []
    },
    {
      "cell_type": "code",
      "metadata": {
        "id": "WSe_9aM3Rffj",
        "colab_type": "code",
        "colab": {}
      },
      "source": [
        "plt.figure(figsize=(16, 8))\n",
        "plt.title(\"Close price history\")\n",
        "plt.plot(df[\"Close\"])\n",
        "plt.xlabel(\"Date\")\n",
        "plt.ylabel(\"Price in USD $\")\n",
        "# plt.show()"
      ],
      "execution_count": 0,
      "outputs": []
    },
    {
      "cell_type": "code",
      "metadata": {
        "id": "uYp6Oiy5TbzJ",
        "colab_type": "code",
        "colab": {}
      },
      "source": [
        "#Create a new dataframe with only the close column\n",
        "data = df.filter(['Close'])\n",
        "dataset = data.values\n",
        "\n",
        "#Get rows\n",
        "\n",
        "training_data_len = math.ceil(len(dataset) * .8)"
      ],
      "execution_count": 0,
      "outputs": []
    },
    {
      "cell_type": "code",
      "metadata": {
        "id": "d0qzkwc2UPjO",
        "colab_type": "code",
        "colab": {}
      },
      "source": [
        "scaler = MinMaxScaler(feature_range=(0,1))\n",
        "scaled_data = scaler.fit_transform(dataset)\n",
        "\n"
      ],
      "execution_count": 0,
      "outputs": []
    },
    {
      "cell_type": "code",
      "metadata": {
        "id": "BdvpCzRDUnYi",
        "colab_type": "code",
        "colab": {}
      },
      "source": [
        "#create the training data set\n",
        "#created the scaled training set\n",
        "\n",
        "train_data = scaled_data[0: training_data_len,:]\n",
        "#split the data into x_train and y_train\n",
        "\n",
        "x_train = []\n",
        "y_train= []\n",
        "\n",
        "for i in range(60, len(train_data)):\n",
        "  x_train.append(train_data[i-60:i,0])\n",
        "  y_train.append(train_data[i, 0])\n",
        "  "
      ],
      "execution_count": 0,
      "outputs": []
    },
    {
      "cell_type": "code",
      "metadata": {
        "id": "5EpmRrnkV--1",
        "colab_type": "code",
        "colab": {}
      },
      "source": [
        "#convert training datasets to np array\n",
        "x_train, y_train = np.array(x_train), np.array(y_train)\n"
      ],
      "execution_count": 0,
      "outputs": []
    },
    {
      "cell_type": "code",
      "metadata": {
        "id": "bcMIF-FfWYj_",
        "colab_type": "code",
        "colab": {}
      },
      "source": [
        "#reshape the data\n",
        "x_train = np.reshape(x_train, (x_train.shape[0], x_train.shape[1], 1))"
      ],
      "execution_count": 0,
      "outputs": []
    },
    {
      "cell_type": "code",
      "metadata": {
        "id": "DwLYwidBW_ar",
        "colab_type": "code",
        "colab": {}
      },
      "source": [
        "#build the LSTM Model\n",
        "\n",
        "model = Sequential()\n",
        "model.add(LSTM(50, return_sequences=True, input_shape=(x_train.shape[1], 1)))\n",
        "model.add(LSTM(50, return_sequences=False))\n",
        "model.add(Dense(25))\n",
        "model.add(Dense(1))"
      ],
      "execution_count": 0,
      "outputs": []
    },
    {
      "cell_type": "code",
      "metadata": {
        "id": "4USqDOgNXpoD",
        "colab_type": "code",
        "colab": {}
      },
      "source": [
        "model.compile(optimizer=\"adam\", loss=\"mean_squared_error\")"
      ],
      "execution_count": 0,
      "outputs": []
    },
    {
      "cell_type": "code",
      "metadata": {
        "id": "rmVjSw6rX0bn",
        "colab_type": "code",
        "colab": {}
      },
      "source": [
        "model.fit(x_train, y_train, batch_size=1, epochs=1)"
      ],
      "execution_count": 0,
      "outputs": []
    },
    {
      "cell_type": "code",
      "metadata": {
        "id": "jlM0cmQ1YR6G",
        "colab_type": "code",
        "colab": {}
      },
      "source": [
        "#create the testing dataset\n",
        "\n",
        "#create a new array\n",
        "\n",
        "test_data = scaled_data[training_data_len-60: , :]\n",
        "\n",
        "#create the data sets x_test and y_test\n",
        "\n",
        "x_test = []\n",
        "y_test = dataset[training_data_len: , :]\n",
        "\n",
        "for i in range(60, len(test_data)):\n",
        "  x_test.append(test_data[i-60:i, 0])"
      ],
      "execution_count": 0,
      "outputs": []
    },
    {
      "cell_type": "code",
      "metadata": {
        "id": "_dmL7vNyaZ52",
        "colab_type": "code",
        "colab": {}
      },
      "source": [
        "#convert  the data to a np array\n",
        "x_test = np.array(x_test)\n",
        "\n",
        "#\n",
        "x_test = np.reshape(x_test, (x_test.shape[0], x_test.shape[1], 1))"
      ],
      "execution_count": 0,
      "outputs": []
    },
    {
      "cell_type": "code",
      "metadata": {
        "id": "FXH8sel8dLea",
        "colab_type": "code",
        "colab": {}
      },
      "source": [
        "#get the models predicted price values\n",
        "\n",
        "predictions = model.predict(x_test)\n",
        "\n",
        "predictions = scaler.inverse_transform(predictions)\n"
      ],
      "execution_count": 0,
      "outputs": []
    },
    {
      "cell_type": "code",
      "metadata": {
        "id": "GTMRfl1cdqAj",
        "colab_type": "code",
        "colab": {
          "base_uri": "https://localhost:8080/",
          "height": 34
        },
        "outputId": "589708ae-7c6f-4d0b-e1b8-0c89c4573b50"
      },
      "source": [
        "#get the root mean squared error (RMSE)\n",
        "\n",
        "rmse = np.sqrt(np.mean(predictions - y_test) **2)\n",
        "\n",
        "rmse"
      ],
      "execution_count": 60,
      "outputs": [
        {
          "output_type": "execute_result",
          "data": {
            "text/plain": [
              "4.27319076538086"
            ]
          },
          "metadata": {
            "tags": []
          },
          "execution_count": 60
        }
      ]
    },
    {
      "cell_type": "code",
      "metadata": {
        "id": "iZChjdTQeLbs",
        "colab_type": "code",
        "colab": {
          "base_uri": "https://localhost:8080/",
          "height": 660
        },
        "outputId": "9ee00532-6882-4dd5-b75b-9612e3826ce0"
      },
      "source": [
        "#plot the data\n",
        "train = data[:training_data_len]\n",
        "valid = data[training_data_len:]\n",
        "\n",
        "valid[\"Predictions\"] = predictions\n",
        "\n",
        "plt.figure(figsize=(16, 8))\n",
        "plt.title(\"Model\")\n",
        "\n",
        "plt.xlabel(\"Date\")\n",
        "plt.ylabel(\"Closing price in USD\")\n",
        "\n",
        "plt.plot(train[\"Close\"])\n",
        "plt.plot(valid[[\"Close\", \"Predictions\"]])\n",
        "plt.legend([\"Train\", \"Val\", \"Predictions\"], loc=\"lower right\")\n",
        "plt.show()"
      ],
      "execution_count": 61,
      "outputs": [
        {
          "output_type": "stream",
          "text": [
            "/usr/local/lib/python3.6/dist-packages/ipykernel_launcher.py:4: SettingWithCopyWarning: \n",
            "A value is trying to be set on a copy of a slice from a DataFrame.\n",
            "Try using .loc[row_indexer,col_indexer] = value instead\n",
            "\n",
            "See the caveats in the documentation: http://pandas.pydata.org/pandas-docs/stable/user_guide/indexing.html#returning-a-view-versus-a-copy\n",
            "  after removing the cwd from sys.path.\n"
          ],
          "name": "stderr"
        },
        {
          "output_type": "display_data",
          "data": {
            "image/png": "[encoded data removed]",
            "text/plain": [
              "<Figure size 1152x576 with 1 Axes>"
            ]
          },
          "metadata": {
            "tags": []
          }
        }
      ]
    },
    {
      "cell_type": "code",
      "metadata": {
        "id": "KvCtH4E0faG7",
        "colab_type": "code",
        "colab": {}
      },
      "source": [
        "#show the valid and predicted\n",
        "\n",
        "valid"
      ],
      "execution_count": 0,
      "outputs": []
    },
    {
      "cell_type": "code",
      "metadata": {
        "id": "NyorMReuf4Jd",
        "colab_type": "code",
        "colab": {
          "base_uri": "https://localhost:8080/",
          "height": 34
        },
        "outputId": "8ecafeb2-abca-4254-a416-1fe3cf054f9a"
      },
      "source": [
        "apple_quote = web.DataReader(\"AAPL\", data_source=\"yahoo\", start=\"2012-01-01\", end=\"2019-12-18\")\n",
        "new_df = apple_quote.filter([\"Close\"])\n",
        "last_60_days = new_df[-60:].values\n",
        "\n",
        "#scale the data\n",
        "last_60_days_scaled = scaler.transform(last_60_days)\n",
        "\n",
        "X_test = []\n",
        "X_test.append(last_60_days_scaled)\n",
        "X_test = np.array(X_test)\n",
        "\n",
        "#reshape the data\n",
        "\n",
        "X_test = np.reshape(X_test, (X_test.shape[0], X_test.shape[1], 1))\n",
        "\n",
        "pred_price = model.predict(X_test)\n",
        "\n",
        "pred_price = scaler.inverse_transform(pred_price)\n",
        "\n",
        "pred_price[0][0]"
      ],
      "execution_count": 70,
      "outputs": [
        {
          "output_type": "execute_result",
          "data": {
            "text/plain": [
              "276.11282"
            ]
          },
          "metadata": {
            "tags": []
          },
          "execution_count": 70
        }
      ]
    },
    {
      "cell_type": "code",
      "metadata": {
        "id": "YvSHSyIThkHb",
        "colab_type": "code",
        "colab": {}
      },
      "source": [
        ""
      ],
      "execution_count": 0,
      "outputs": []
    },
    {
      "cell_type": "code",
      "metadata": {
        "id": "4AsT-7JFgGkW",
        "colab_type": "code",
        "colab": {
          "base_uri": "https://localhost:8080/",
          "height": 68
        },
        "outputId": "cdcf0860-3e06-453a-806b-4afaaf081dd0"
      },
      "source": [
        "apple_quote2 = web.DataReader(\"AAPL\", data_source=\"yahoo\", start=\"2019-12-19\", end=\"2019-12-19\")\n",
        "print(apple_quote2[\"Close\"])"
      ],
      "execution_count": 71,
      "outputs": [
        {
          "output_type": "stream",
          "text": [
            "Date\n",
            "2019-12-19    280.019989\n",
            "Name: Close, dtype: float64\n"
          ],
          "name": "stdout"
        }
      ]
    }
  ]
}